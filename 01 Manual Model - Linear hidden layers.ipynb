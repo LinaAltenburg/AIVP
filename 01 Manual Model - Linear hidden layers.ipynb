{
 "cells": [
  {
   "cell_type": "code",
   "execution_count": 6,
   "metadata": {},
   "outputs": [
    {
     "data": {
      "text/plain": [
       "<torch._C.Generator at 0x1e892944cd0>"
      ]
     },
     "execution_count": 6,
     "metadata": {},
     "output_type": "execute_result"
    }
   ],
   "source": [
    "import torch\n",
    "import torchvision\n",
    "from torchvision import datasets, transforms\n",
    "import torch.nn as nn\n",
    "import torch.nn.functional as F\n",
    "import torch.optim as optim\n",
    "from time import time\n",
    "import matplotlib.pyplot as plt\n",
    "\n",
    "# set seed for the random number generations (to be able to replicate the results)\n",
    "random_seed = 1\n",
    "torch.backends.cudnn.enabled = False\n",
    "torch.manual_seed(random_seed)"
   ]
  },
  {
   "cell_type": "code",
   "execution_count": 2,
   "metadata": {},
   "outputs": [],
   "source": [
    "# loading and transforming the data\n",
    "\n",
    "# transform\n",
    "transform = transforms.Compose([transforms.ToTensor(), #transforms image into colour matrices with values ranging from 0 -1 (becomes a Torch Tensor)\n",
    "                              transforms.Normalize((0.5,), (0.5,)), # normalizes tensor\n",
    "                              ])\n",
    "\n",
    "# loading the data\n",
    "trainset = datasets.EMNIST('\\Datasets\\MNIST\\Trainset', download=True, split='letters', train=True, transform=transform)\n",
    "valset = datasets.EMNIST('\\Datasets\\MNIST\\Valset', download=True, split='letters', train=False, transform=transform)\n",
    "\n",
    "# creating the batches \n",
    "train_loader = torch.utils.data.DataLoader(trainset, batch_size=64, shuffle=True) \n",
    "test_loader = torch.utils.data.DataLoader(valset, batch_size=64, shuffle=True) "
   ]
  },
  {
   "cell_type": "code",
   "execution_count": 3,
   "metadata": {},
   "outputs": [
    {
     "name": "stdout",
     "output_type": "stream",
     "text": [
      "Net(\n",
      "  (lin1): Linear(in_features=784, out_features=128, bias=True)\n",
      "  (lin2): Linear(in_features=128, out_features=64, bias=True)\n",
      "  (lin3): Linear(in_features=64, out_features=27, bias=True)\n",
      ")\n"
     ]
    }
   ],
   "source": [
    "# defining the neural network\n",
    "class Net(nn.Module):\n",
    "    def __init__(self):\n",
    "        super(Net, self).__init__()\n",
    "        self.lin1 = nn.Linear(784,128)\n",
    "        self.lin2 = nn.Linear(128,64)\n",
    "        self.lin3 = nn.Linear(64,27)\n",
    "\n",
    "    def forward(self, x):\n",
    "        x = x.view(x.shape[0], -1) # transforms input into 2D, keeps batches as 64, infers other value \n",
    "        x = F.relu(self.lin1(x))\n",
    "        x = F.relu(self.lin2(x))\n",
    "        x = self.lin3(x)\n",
    "        return F.log_softmax(x, dim = 1)\n",
    "        \n",
    "model = Net()\n",
    "print(model)"
   ]
  },
  {
   "cell_type": "code",
   "execution_count": 8,
   "metadata": {},
   "outputs": [
    {
     "data": {
      "text/plain": [
       "<matplotlib.image.AxesImage at 0x1e89c371220>"
      ]
     },
     "execution_count": 8,
     "metadata": {},
     "output_type": "execute_result"
    },
    {
     "data": {
      "image/png": "[encoded data removed]",
      "text/plain": [
       "<Figure size 432x288 with 1 Axes>"
      ]
     },
     "metadata": {
      "needs_background": "light"
     },
     "output_type": "display_data"
    }
   ],
   "source": [
    "# display one image\n",
    "images, labels = next(iter(train_loader))\n",
    "plt.imshow(images[60].numpy().squeeze(), cmap='gray_r')"
   ]
  },
  {
   "cell_type": "code",
   "execution_count": 4,
   "metadata": {},
   "outputs": [],
   "source": [
    "# defining the optimization method\n",
    "learning_rate = 0.003\n",
    "momentum = 0.9\n",
    "optimizer = optim.SGD(model.parameters(), lr=learning_rate,\n",
    "                      momentum=momentum)"
   ]
  },
  {
   "cell_type": "code",
   "execution_count": 4,
   "metadata": {},
   "outputs": [],
   "source": [
    "# setting the image to the correct size\n",
    "images, labels = next(iter(train_loader))\n",
    "images = images.view(images.shape[0], -1)\n",
    "\n",
    "# criterion = nn.NLLLoss()\n",
    "# logps = model(images) #log probabilities\n",
    "# loss = criterion(logps, labels) #calculate the NLL loss"
   ]
  },
  {
   "cell_type": "code",
   "execution_count": 7,
   "metadata": {},
   "outputs": [
    {
     "name": "stdout",
     "output_type": "stream",
     "text": [
      "Epoch 0 - Training loss: 1.36163492783522\n",
      "Epoch 1 - Training loss: 0.6907414230475059\n",
      "Epoch 2 - Training loss: 0.5216275825867286\n",
      "Epoch 3 - Training loss: 0.44667644774302456\n",
      "Epoch 4 - Training loss: 0.39697610853192133\n",
      "Epoch 5 - Training loss: 0.36529207745423686\n",
      "Epoch 6 - Training loss: 0.3419739656494214\n",
      "Epoch 7 - Training loss: 0.3223865580253112\n",
      "Epoch 8 - Training loss: 0.30568636211447225\n",
      "Epoch 9 - Training loss: 0.2932727290422488\n",
      "Epoch 10 - Training loss: 0.28056044661463836\n",
      "Epoch 11 - Training loss: 0.27094381493253583\n",
      "Epoch 12 - Training loss: 0.2621460666335546\n",
      "Epoch 13 - Training loss: 0.25346044551485625\n",
      "Epoch 14 - Training loss: 0.2477346423249214\n",
      "\n",
      "Training Time (in minutes) = 18.209012258052827\n"
     ]
    }
   ],
   "source": [
    "# # core training process (NN iterates over the training set and updates the weights))\n",
    "# time0 = time()\n",
    "# epochs = 15\n",
    "# for e in range(epochs):\n",
    "#     running_loss = 0\n",
    "#     for images, labels in train_loader:\n",
    "#         # Training pass\n",
    "#         optimizer.zero_grad()\n",
    "        \n",
    "#         output = model(images)\n",
    "#         loss = criterion(output, labels)\n",
    "        \n",
    "#         #This is where the model learns by backpropagating\n",
    "#         loss.backward()\n",
    "        \n",
    "#         #And optimizes its weights here\n",
    "#         optimizer.step()\n",
    "        \n",
    "#         running_loss += loss.item()\n",
    "#     else:\n",
    "#         print(\"Epoch {} - Training loss: {}\".format(e, running_loss/len(train_loader)))\n",
    "# print(\"\\nTraining Time (in minutes) =\",(time()-time0)/60)"
   ]
  },
  {
   "cell_type": "code",
   "execution_count": 8,
   "metadata": {},
   "outputs": [
    {
     "name": "stdout",
     "output_type": "stream",
     "text": [
      "Number Of Images Tested = 20800\n",
      "\n",
      "Model Accuracy = 0.8979326923076923\n"
     ]
    }
   ],
   "source": [
    "# correct_count, all_count = 0, 0\n",
    "# for images,labels in test_loader:\n",
    "#   for i in range(len(labels)):\n",
    "#     img = images[i].view(1, 784)\n",
    "#     with torch.no_grad():\n",
    "#         logps = model(img)\n",
    "\n",
    "    \n",
    "#     ps = torch.exp(logps)\n",
    "#     probab = list(ps.numpy()[0])\n",
    "#     pred_label = probab.index(max(probab))\n",
    "#     true_label = labels.numpy()[i]\n",
    "#     if(true_label == pred_label):\n",
    "#       correct_count += 1\n",
    "#     all_count += 1\n",
    "\n",
    "# print(\"Number Of Images Tested =\", all_count)\n",
    "# print(\"\\nModel Accuracy =\", (correct_count/all_count))"
   ]
  },
  {
   "cell_type": "code",
   "execution_count": 6,
   "metadata": {},
   "outputs": [],
   "source": [
    "# training the neural network\n",
    "# core training process (NN iterates over the training set and updates the weights))\n",
    "# time0 = time()\n",
    "epochs = 15\n",
    "def train(epochs):\n",
    "    #for e in range(epochs):\n",
    "#     time0 = time()\n",
    "        running_loss = 0\n",
    "        correct = 0\n",
    "        for images, labels in train_loader:\n",
    "            # Training pass\n",
    "            optimizer.zero_grad() # sets all optimized gradients to zero\n",
    "\n",
    "            output = model(images)\n",
    "            \n",
    "            pred = output.data.max(1, keepdim=True)[1]\n",
    "            correct += pred.eq(labels.data.view_as(pred)).sum()\n",
    "            \n",
    "            #loss \n",
    "            loss = F.nll_loss(output, labels)\n",
    "\n",
    "            #This is where the model learns by backpropagating\n",
    "            loss.backward()\n",
    "\n",
    "            #And optimizes its weights here\n",
    "            optimizer.step()\n",
    "\n",
    "            running_loss += loss.item()\n",
    "        else: \n",
    "            print(\"Epoch {} - Training loss: {:.4f} Train Accuracy: ({:.2f}%)\".format(\n",
    "                i+1, running_loss/len(train_loader),\n",
    "                100. * correct / len(train_loader.dataset)))\n",
    "#     print(\"\\nTraining Time (in minutes) =\",(time()-time0)/60)"
   ]
  },
  {
   "cell_type": "code",
   "execution_count": 7,
   "metadata": {},
   "outputs": [],
   "source": [
    "test_losses = []\n",
    "def test():\n",
    "  model.eval()\n",
    "  test_loss = 0\n",
    "  correct = 0\n",
    "  with torch.no_grad():\n",
    "    for images, labels in test_loader:\n",
    "      output = model(images)\n",
    "      test_loss += F.nll_loss(output, labels, size_average=False).item()\n",
    "      pred = output.data.max(1, keepdim=True)[1]\n",
    "      correct += pred.eq(labels.data.view_as(pred)).sum()\n",
    "  test_loss /= len(test_loader.dataset)\n",
    "  test_losses.append(test_loss)\n",
    "  print(\"Test los: {:.4f}, Accuracy: {}/{} ({:.2f}%)\".format(\n",
    "    test_loss, correct, len(test_loader.dataset),\n",
    "    100. * correct / len(test_loader.dataset)))\n",
    "# test()"
   ]
  },
  {
   "cell_type": "code",
   "execution_count": 8,
   "metadata": {},
   "outputs": [
    {
     "name": "stderr",
     "output_type": "stream",
     "text": [
      "C:\\Users\\Lina_\\anaconda3\\lib\\site-packages\\torch\\nn\\_reduction.py:44: UserWarning: size_average and reduce args will be deprecated, please use reduction='sum' instead.\n",
      "  warnings.warn(warning.format(ret))\n"
     ]
    },
    {
     "name": "stdout",
     "output_type": "stream",
     "text": [
      "Test los: 3.2989, Accuracy: 897/20800 (4.31%)\n",
      "Epoch 1 - Training loss: 1.3630 Train Accuracy: (60.77%)\n",
      "Test los: 0.8366, Accuracy: 15703/20800 (75.50%)\n",
      "Epoch 2 - Training loss: 0.6929 Train Accuracy: (79.41%)\n",
      "Test los: 0.5930, Accuracy: 17153/20800 (82.47%)\n",
      "Epoch 3 - Training loss: 0.5160 Train Accuracy: (84.17%)\n",
      "Test los: 0.4864, Accuracy: 17693/20800 (85.06%)\n",
      "Epoch 4 - Training loss: 0.4346 Train Accuracy: (86.54%)\n",
      "Test los: 0.4560, Accuracy: 17922/20800 (86.16%)\n",
      "Epoch 5 - Training loss: 0.3892 Train Accuracy: (87.83%)\n",
      "Test los: 0.4218, Accuracy: 18126/20800 (87.14%)\n",
      "Epoch 6 - Training loss: 0.3586 Train Accuracy: (88.68%)\n",
      "Test los: 0.3839, Accuracy: 18367/20800 (88.30%)\n",
      "Epoch 7 - Training loss: 0.3362 Train Accuracy: (89.38%)\n",
      "Test los: 0.3721, Accuracy: 18443/20800 (88.67%)\n",
      "Epoch 8 - Training loss: 0.3172 Train Accuracy: (89.90%)\n",
      "Test los: 0.3619, Accuracy: 18470/20800 (88.80%)\n",
      "Epoch 9 - Training loss: 0.3020 Train Accuracy: (90.36%)\n",
      "Test los: 0.3562, Accuracy: 18511/20800 (89.00%)\n",
      "Epoch 10 - Training loss: 0.2893 Train Accuracy: (90.66%)\n",
      "Test los: 0.3425, Accuracy: 18620/20800 (89.52%)\n",
      "Epoch 11 - Training loss: 0.2791 Train Accuracy: (90.95%)\n",
      "Test los: 0.3334, Accuracy: 18657/20800 (89.70%)\n",
      "Epoch 12 - Training loss: 0.2713 Train Accuracy: (91.10%)\n",
      "Test los: 0.3550, Accuracy: 18575/20800 (89.30%)\n",
      "Epoch 13 - Training loss: 0.2603 Train Accuracy: (91.48%)\n",
      "Test los: 0.3269, Accuracy: 18705/20800 (89.93%)\n",
      "Epoch 14 - Training loss: 0.2536 Train Accuracy: (91.70%)\n",
      "Test los: 0.3279, Accuracy: 18699/20800 (89.90%)\n",
      "Epoch 15 - Training loss: 0.2455 Train Accuracy: (91.93%)\n",
      "Test los: 0.3299, Accuracy: 18668/20800 (89.75%)\n",
      "\n",
      "Training Time (in minutes) = 32.110654040177664\n"
     ]
    }
   ],
   "source": [
    "time0 = time()\n",
    "test()\n",
    "for i in range(epochs):\n",
    "  train(i)\n",
    "  test()\n",
    "print(\"\\nTraining Time (in minutes) =\",(time()-time0)/60)"
   ]
  },
  {
   "cell_type": "code",
   "execution_count": 9,
   "metadata": {},
   "outputs": [],
   "source": [
    "# save the model\n",
    "torch.save(model, './01_model.pt') \n",
    "#  save the trained model"
   ]
  }
 ],
 "metadata": {
  "kernelspec": {
   "display_name": "Python 3",
   "language": "python",
   "name": "python3"
  },
  "language_info": {
   "codemirror_mode": {
    "name": "ipython",
    "version": 3
   },
   "file_extension": ".py",
   "mimetype": "text/x-python",
   "name": "python",
   "nbconvert_exporter": "python",
   "pygments_lexer": "ipython3",
   "version": "3.8.3"
  }
 },
 "nbformat": 4,
 "nbformat_minor": 4
}
