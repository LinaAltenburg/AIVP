{
 "cells": [
  {
   "cell_type": "code",
   "execution_count": 1,
   "metadata": {},
   "outputs": [
    {
     "data": {
      "text/plain": [
       "<torch._C.Generator at 0x1ed260f7cd0>"
      ]
     },
     "execution_count": 1,
     "metadata": {},
     "output_type": "execute_result"
    }
   ],
   "source": [
    "import torch\n",
    "import torchvision\n",
    "from torchvision import datasets, transforms\n",
    "import torch.nn as nn\n",
    "import torch.nn.functional as F\n",
    "import torch.optim as optim\n",
    "from time import time\n",
    "\n",
    "# set seed for the random number generations (to be able to replicate the results)\n",
    "random_seed = 1\n",
    "torch.backends.cudnn.enabled = False\n",
    "torch.manual_seed(random_seed)"
   ]
  },
  {
   "cell_type": "code",
   "execution_count": 2,
   "metadata": {},
   "outputs": [],
   "source": [
    "# loading and transforming the data\n",
    "\n",
    "# transform\n",
    "transform = transforms.Compose([transforms.ToTensor(), #transforms image into colour matrices with values ranging from 0 -1 (becomes a Torch Tensor)\n",
    "                              transforms.Normalize((0.5,), (0.5,)), # normalizes tensor\n",
    "                              ])\n",
    "\n",
    "# loading the data\n",
    "trainset = datasets.EMNIST('\\Datasets\\MNIST\\Trainset', download=True, split='letters', train=True, transform=transform)\n",
    "valset = datasets.EMNIST('\\Datasets\\MNIST\\Valset', download=True, split='letters', train=False, transform=transform)\n",
    "\n",
    "# creating the batches \n",
    "train_loader = torch.utils.data.DataLoader(trainset, batch_size=64, shuffle=True) \n",
    "test_loader = torch.utils.data.DataLoader(valset, batch_size=64, shuffle=True) "
   ]
  },
  {
   "cell_type": "code",
   "execution_count": 3,
   "metadata": {},
   "outputs": [
    {
     "name": "stdout",
     "output_type": "stream",
     "text": [
      "Net(\n",
      "  (conv1): Conv2d(1, 5, kernel_size=(3, 3), stride=(1, 1))\n",
      "  (conv2): Conv2d(5, 10, kernel_size=(3, 3), stride=(1, 1))\n",
      "  (lin1): Linear(in_features=250, out_features=27, bias=True)\n",
      ")\n"
     ]
    }
   ],
   "source": [
    "# defining the neural network\n",
    "class Net(nn.Module):\n",
    "    def __init__(self):\n",
    "        super(Net, self).__init__()\n",
    "        self.conv1 = nn.Conv2d(1,5,3) # for convolution: imput size has to match number of channels for the image\n",
    "        self.conv2 = nn.Conv2d(5,10,3)\n",
    "        self.lin1 = nn.Linear(250, 27) # 5760 is calculated by: print(x.view(64, -1).shape)\n",
    "\n",
    "    def forward(self, x):\n",
    "        x = F.relu(F.max_pool2d(self.conv1(x), 2))\n",
    "        x = F.relu(F.max_pool2d(self.conv2(x), 2))\n",
    "        x = x.view(64, -1) # transforms to 2D. Returns a new tensor with the same data as the self tensor but of a different shape.Keep 64 batches, calculate / infer other dimension\n",
    "        x = self.lin1(x) # requires 2D input, no relu required as log_softmax is performed\n",
    "        return F.log_softmax(x, dim = 1)\n",
    "        \n",
    "model = Net()\n",
    "print(model)"
   ]
  },
  {
   "cell_type": "code",
   "execution_count": 4,
   "metadata": {},
   "outputs": [],
   "source": [
    "# defining the optimization method\n",
    "learning_rate = 0.003\n",
    "momentum = 0.9\n",
    "optimizer = optim.SGD(model.parameters(), lr=learning_rate,\n",
    "                      momentum=momentum)"
   ]
  },
  {
   "cell_type": "code",
   "execution_count": 5,
   "metadata": {},
   "outputs": [
    {
     "name": "stdout",
     "output_type": "stream",
     "text": [
      "torch.Size([64, 1, 28, 28])\n"
     ]
    }
   ],
   "source": [
    "# setting the image to the correct size\n",
    "images, labels = next(iter(train_loader))\n",
    "#images = images.view(images.shape[0], -1)\n",
    "print(images.shape)\n",
    "# images = images.transpose(1,3)\n",
    "\n",
    "# criterion = nn.NLLLoss()\n",
    "# logps = model(images) #log probabilities\n",
    "# loss = criterion(logps, labels) #calculate the NLL loss"
   ]
  },
  {
   "cell_type": "code",
   "execution_count": 25,
   "metadata": {},
   "outputs": [
    {
     "name": "stdout",
     "output_type": "stream",
     "text": [
      "Epoch 0 - Training loss: -0.03855772840862091\n",
      "Epoch 1 - Training loss: -0.1866747986792754\n",
      "Epoch 2 - Training loss: -0.3034884336208686\n",
      "Epoch 3 - Training loss: -0.3119990795086592\n",
      "Epoch 4 - Training loss: -0.3169930079120856\n",
      "Epoch 5 - Training loss: -0.320683460411353\n",
      "Epoch 6 - Training loss: -0.32358690515542643\n",
      "Epoch 7 - Training loss: -0.3259819572629073\n",
      "Epoch 8 - Training loss: -0.32756597068829413\n",
      "Epoch 9 - Training loss: -0.3292321242812352\n",
      "Epoch 10 - Training loss: -0.33007866805944686\n",
      "Epoch 11 - Training loss: -0.3491408895682066\n",
      "Epoch 12 - Training loss: -0.4213013410644654\n",
      "Epoch 13 - Training loss: -0.44293490533645336\n",
      "Epoch 14 - Training loss: -0.4480436066327951\n",
      "\n",
      "Training Time (in minutes) = 22.55935230652491\n"
     ]
    }
   ],
   "source": [
    "# # core training process (NN iterates over the training set and updates the weights))\n",
    "# time0 = time()\n",
    "# epochs = 15\n",
    "# for e in range(epochs):\n",
    "#     running_loss = 0\n",
    "#     for images, labels in train_loader:\n",
    "#         # Training pass\n",
    "#         optimizer.zero_grad() # sets all optimized gradients to zero\n",
    "        \n",
    "#         output = model(images)\n",
    "#         #loss = criterion(output, labels)\n",
    "#         loss = F.nll_loss(output, labels)\n",
    "        \n",
    "#         #This is where the model learns by backpropagating\n",
    "#         loss.backward()\n",
    "        \n",
    "#         #And optimizes its weights here\n",
    "#         optimizer.step()\n",
    "        \n",
    "#         running_loss += loss.item()\n",
    "#     else:\n",
    "#         print(\"Epoch {} - Training loss: {}\".format(e, running_loss/len(train_loader)))\n",
    "# print(\"\\nTraining Time (in minutes) =\",(time()-time0)/60)"
   ]
  },
  {
   "cell_type": "code",
   "execution_count": 26,
   "metadata": {},
   "outputs": [
    {
     "name": "stdout",
     "output_type": "stream",
     "text": [
      "Number Of Images Tested = 20800\n",
      "\n",
      "Model Accuracy = 0.04745192307692308\n"
     ]
    }
   ],
   "source": [
    "# correct_count, all_count = 0, 0\n",
    "# for images,labels in test_loader:\n",
    "#   for i in range(len(labels)):\n",
    "# #     img = images[i].view(1, 784)\n",
    "#     with torch.no_grad():\n",
    "#         logps = model(images)\n",
    "\n",
    "    \n",
    "#     ps = torch.exp(logps)\n",
    "#     probab = list(ps.numpy()[0])\n",
    "#     pred_label = probab.index(max(probab))\n",
    "#     true_label = labels.numpy()[i]\n",
    "#     if(true_label == pred_label):\n",
    "#       correct_count += 1\n",
    "#     all_count += 1\n",
    "\n",
    "# print(\"Number Of Images Tested =\", all_count)\n",
    "# print(\"\\nModel Accuracy =\", (correct_count/all_count))"
   ]
  },
  {
   "cell_type": "code",
   "execution_count": 6,
   "metadata": {},
   "outputs": [],
   "source": [
    "# training the neural network\n",
    "# core training process (NN iterates over the training set and updates the weights))\n",
    "# time0 = time()\n",
    "epochs = 15\n",
    "def train(epochs):\n",
    "    #for e in range(epochs):\n",
    "#     time0 = time()\n",
    "        running_loss = 0\n",
    "        correct = 0\n",
    "        for images, labels in train_loader:\n",
    "            # Training pass\n",
    "            optimizer.zero_grad() # sets all optimized gradients to zero\n",
    "\n",
    "            output = model(images)\n",
    "            \n",
    "            pred = output.data.max(1, keepdim=True)[1]\n",
    "            correct += pred.eq(labels.data.view_as(pred)).sum()\n",
    "            \n",
    "            #loss \n",
    "            loss = F.nll_loss(output, labels)\n",
    "\n",
    "            #This is where the model learns by backpropagating\n",
    "            loss.backward()\n",
    "\n",
    "            #And optimizes its weights here\n",
    "            optimizer.step()\n",
    "\n",
    "            running_loss += loss.item()\n",
    "        else: \n",
    "            print(\"Epoch {} - Training loss: {:.4f} Train Accuracy: ({:.2f}%)\".format(\n",
    "                i+1, running_loss/len(train_loader),\n",
    "                100. * correct / len(train_loader.dataset)))\n",
    "#     print(\"\\nTraining Time (in minutes) =\",(time()-time0)/60)"
   ]
  },
  {
   "cell_type": "code",
   "execution_count": 7,
   "metadata": {},
   "outputs": [],
   "source": [
    "test_losses = []\n",
    "def test():\n",
    "  model.eval()\n",
    "  test_loss = 0\n",
    "  correct = 0\n",
    "  with torch.no_grad():\n",
    "    for images, labels in test_loader:\n",
    "      output = model(images)\n",
    "      test_loss += F.nll_loss(output, labels, size_average=False).item()\n",
    "      pred = output.data.max(1, keepdim=True)[1]\n",
    "      correct += pred.eq(labels.data.view_as(pred)).sum()\n",
    "  test_loss /= len(test_loader.dataset)\n",
    "  test_losses.append(test_loss)\n",
    "  print(\"Test los: {:.4f}, Accuracy: {}/{} ({:.2f}%)\".format(\n",
    "    test_loss, correct, len(test_loader.dataset),\n",
    "    100. * correct / len(test_loader.dataset)))\n",
    "# test()"
   ]
  },
  {
   "cell_type": "code",
   "execution_count": 8,
   "metadata": {},
   "outputs": [
    {
     "name": "stderr",
     "output_type": "stream",
     "text": [
      "C:\\Users\\Lina_\\anaconda3\\lib\\site-packages\\torch\\nn\\_reduction.py:44: UserWarning: size_average and reduce args will be deprecated, please use reduction='sum' instead.\n",
      "  warnings.warn(warning.format(ret))\n"
     ]
    },
    {
     "name": "stdout",
     "output_type": "stream",
     "text": [
      "Test los: 3.3048, Accuracy: 131/20800 (0.63%)\n",
      "Epoch 1 - Training loss: 1.1113 Train Accuracy: (67.78%)\n",
      "Test los: 0.5470, Accuracy: 17394/20800 (83.62%)\n",
      "Epoch 2 - Training loss: 0.4819 Train Accuracy: (85.02%)\n",
      "Test los: 0.4553, Accuracy: 17955/20800 (86.32%)\n",
      "Epoch 3 - Training loss: 0.4082 Train Accuracy: (87.22%)\n",
      "Test los: 0.4041, Accuracy: 18272/20800 (87.85%)\n",
      "Epoch 4 - Training loss: 0.3759 Train Accuracy: (88.25%)\n",
      "Test los: 0.3751, Accuracy: 18386/20800 (88.39%)\n",
      "Epoch 5 - Training loss: 0.3556 Train Accuracy: (88.79%)\n",
      "Test los: 0.3639, Accuracy: 18440/20800 (88.65%)\n",
      "Epoch 6 - Training loss: 0.3415 Train Accuracy: (89.22%)\n",
      "Test los: 0.3501, Accuracy: 18575/20800 (89.30%)\n",
      "Epoch 7 - Training loss: 0.3301 Train Accuracy: (89.53%)\n",
      "Test los: 0.3484, Accuracy: 18576/20800 (89.31%)\n",
      "Epoch 8 - Training loss: 0.3233 Train Accuracy: (89.69%)\n",
      "Test los: 0.3488, Accuracy: 18565/20800 (89.25%)\n",
      "Epoch 9 - Training loss: 0.3159 Train Accuracy: (89.91%)\n",
      "Test los: 0.3521, Accuracy: 18517/20800 (89.02%)\n",
      "Epoch 10 - Training loss: 0.3107 Train Accuracy: (90.12%)\n",
      "Test los: 0.3406, Accuracy: 18635/20800 (89.59%)\n",
      "Epoch 11 - Training loss: 0.3058 Train Accuracy: (90.27%)\n",
      "Test los: 0.3524, Accuracy: 18518/20800 (89.03%)\n",
      "Epoch 12 - Training loss: 0.3018 Train Accuracy: (90.33%)\n",
      "Test los: 0.3331, Accuracy: 18649/20800 (89.66%)\n",
      "Epoch 13 - Training loss: 0.2985 Train Accuracy: (90.37%)\n",
      "Test los: 0.3314, Accuracy: 18711/20800 (89.96%)\n",
      "Epoch 14 - Training loss: 0.2956 Train Accuracy: (90.55%)\n",
      "Test los: 0.3251, Accuracy: 18689/20800 (89.85%)\n",
      "Epoch 15 - Training loss: 0.2922 Train Accuracy: (90.59%)\n",
      "Test los: 0.3189, Accuracy: 18740/20800 (90.10%)\n",
      "\n",
      "Training Time (in minutes) = 55.226392992337544\n"
     ]
    }
   ],
   "source": [
    "time0 = time()\n",
    "test()\n",
    "for i in range(epochs):\n",
    "  train(i)\n",
    "  test()\n",
    "print(\"\\nTraining Time (in minutes) =\",(time()-time0)/60)"
   ]
  },
  {
   "cell_type": "code",
   "execution_count": 21,
   "metadata": {},
   "outputs": [
    {
     "name": "stdout",
     "output_type": "stream",
     "text": [
      "torch.Size([64, 5, 13, 13])\n",
      "torch.Size([64, 10, 5, 5])\n",
      "torch.Size([64, 250])\n"
     ]
    }
   ],
   "source": [
    "# Print shape of images at different points in the model\n",
    "model = nn.Conv2d(1,5,3)\n",
    "output_pooled = F.max_pool2d(model(images),2)\n",
    "print(output_pooled.shape)\n",
    "\n",
    "model2 = nn.Conv2d(5,10,3)\n",
    "output2_pooled = F.max_pool2d(model2(output_pooled),2)\n",
    "print(output2_pooled.shape)\n",
    "\n",
    "print(output2_pooled.view(64, -1).shape)"
   ]
  },
  {
   "cell_type": "code",
   "execution_count": 9,
   "metadata": {},
   "outputs": [],
   "source": [
    "# save the model\n",
    "torch.save(model, './03_model.pt') \n",
    "#  save the trained model"
   ]
  }
 ],
 "metadata": {
  "kernelspec": {
   "display_name": "Python 3",
   "language": "python",
   "name": "python3"
  },
  "language_info": {
   "codemirror_mode": {
    "name": "ipython",
    "version": 3
   },
   "file_extension": ".py",
   "mimetype": "text/x-python",
   "name": "python",
   "nbconvert_exporter": "python",
   "pygments_lexer": "ipython3",
   "version": "3.8.3"
  }
 },
 "nbformat": 4,
 "nbformat_minor": 4
}
