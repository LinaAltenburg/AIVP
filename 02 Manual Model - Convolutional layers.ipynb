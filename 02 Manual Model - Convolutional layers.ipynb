{
 "cells": [
  {
   "cell_type": "code",
   "execution_count": 1,
   "metadata": {},
   "outputs": [
    {
     "data": {
      "text/plain": [
       "<torch._C.Generator at 0x18fc5eb6cd0>"
      ]
     },
     "execution_count": 1,
     "metadata": {},
     "output_type": "execute_result"
    }
   ],
   "source": [
    "import torch\n",
    "import torchvision\n",
    "from torchvision import datasets, transforms\n",
    "import torch.nn as nn\n",
    "import torch.nn.functional as F\n",
    "import torch.optim as optim\n",
    "from time import time\n",
    "\n",
    "# set seed for the random number generations (to be able to replicate the results)\n",
    "random_seed = 1\n",
    "torch.backends.cudnn.enabled = False\n",
    "torch.manual_seed(random_seed)"
   ]
  },
  {
   "cell_type": "code",
   "execution_count": 2,
   "metadata": {},
   "outputs": [],
   "source": [
    "# loading and transforming the data\n",
    "\n",
    "# transform\n",
    "transform = transforms.Compose([transforms.ToTensor(), #transforms image into colour matrices with values ranging from 0 -1 (becomes a Torch Tensor)\n",
    "                              transforms.Normalize((0.5,), (0.5,)), # normalizes tensor\n",
    "                              ])\n",
    "\n",
    "# loading the data\n",
    "trainset = datasets.EMNIST('\\Datasets\\MNIST\\Trainset', download=True, split='letters', train=True, transform=transform)\n",
    "valset = datasets.EMNIST('\\Datasets\\MNIST\\Valset', download=True, split='letters', train=False, transform=transform)\n",
    "\n",
    "# creating the batches \n",
    "train_loader = torch.utils.data.DataLoader(trainset, batch_size=64, shuffle=True) \n",
    "test_loader = torch.utils.data.DataLoader(valset, batch_size=64, shuffle=True) "
   ]
  },
  {
   "cell_type": "code",
   "execution_count": 3,
   "metadata": {},
   "outputs": [
    {
     "name": "stdout",
     "output_type": "stream",
     "text": [
      "Net(\n",
      "  (conv1): Conv2d(1, 5, kernel_size=(3, 3), stride=(1, 1))\n",
      "  (conv2): Conv2d(5, 10, kernel_size=(3, 3), stride=(1, 1))\n",
      "  (lin1): Linear(in_features=5760, out_features=27, bias=True)\n",
      ")\n"
     ]
    }
   ],
   "source": [
    "# defining the neural network\n",
    "class Net(nn.Module):\n",
    "    def __init__(self):\n",
    "        super(Net, self).__init__()\n",
    "        self.conv1 = nn.Conv2d(1,5,3) # for convolution: imput size has to match number of channels for the image\n",
    "        self.conv2 = nn.Conv2d(5,10,3)\n",
    "        self.lin1 = nn.Linear(5760, 27) # 5760 is calculated by: print(x.view(64, -1).shape)\n",
    "\n",
    "    def forward(self, x):\n",
    "        x = F.relu(self.conv1(x),2)\n",
    "        x = F.relu(self.conv2(x),2)\n",
    "        x = x.view(64, -1) # transforms to 2D. Returns a new tensor with the same data as the self tensor but of a different shape.Keep 64 batches, calculate / infer other dimension\n",
    "        x = self.lin1(x) # requires 2D input\n",
    "        return F.log_softmax(x, dim = 1)\n",
    "        \n",
    "model = Net()\n",
    "print(model)"
   ]
  },
  {
   "cell_type": "code",
   "execution_count": 4,
   "metadata": {},
   "outputs": [],
   "source": [
    "# defining the optimization method\n",
    "learning_rate = 0.003\n",
    "momentum = 0.9\n",
    "optimizer = optim.SGD(model.parameters(), lr=learning_rate,\n",
    "                      momentum=momentum)"
   ]
  },
  {
   "cell_type": "code",
   "execution_count": 5,
   "metadata": {},
   "outputs": [
    {
     "name": "stdout",
     "output_type": "stream",
     "text": [
      "torch.Size([64, 1, 28, 28])\n"
     ]
    }
   ],
   "source": [
    "# setting the image to the correct size\n",
    "images, labels = next(iter(train_loader))\n",
    "#images = images.view(images.shape[0], -1)\n",
    "print(images.shape)\n",
    "# images = images.transpose(1,3)\n",
    "\n",
    "# criterion = nn.NLLLoss()\n",
    "# logps = model(images) #log probabilities\n",
    "# loss = criterion(logps, labels) #calculate the NLL loss"
   ]
  },
  {
   "cell_type": "code",
   "execution_count": 15,
   "metadata": {},
   "outputs": [
    {
     "name": "stdout",
     "output_type": "stream",
     "text": [
      "Epoch 0 - Training loss: -0.3340732929893793\n",
      "Epoch 1 - Training loss: -0.4125588628344047\n",
      "Epoch 2 - Training loss: -0.42012112215543407\n",
      "Epoch 3 - Training loss: -0.425144616602323\n",
      "Epoch 4 - Training loss: -0.4285904929729608\n",
      "Epoch 5 - Training loss: -0.43238953915926126\n",
      "Epoch 6 - Training loss: -0.43565070943954665\n",
      "Epoch 7 - Training loss: -0.43992275927311336\n",
      "Epoch 8 - Training loss: -0.444382127569272\n",
      "Epoch 9 - Training loss: -0.448957447547179\n",
      "Epoch 10 - Training loss: -0.4532141888676546\n",
      "Epoch 11 - Training loss: -0.45721199773825133\n",
      "Epoch 12 - Training loss: -0.4609445828657884\n",
      "Epoch 13 - Training loss: -0.4664724882138081\n",
      "Epoch 14 - Training loss: -0.4992712945204515\n",
      "\n",
      "Training Time (in minutes) = 79.80108939409256\n"
     ]
    }
   ],
   "source": [
    "# # core training process (NN iterates over the training set and updates the weights))\n",
    "# time0 = time()\n",
    "# epochs = 15\n",
    "# for e in range(epochs):\n",
    "#     running_loss = 0\n",
    "#     for images, labels in train_loader:\n",
    "#         # Training pass\n",
    "#         optimizer.zero_grad() # sets all optimized gradients to zero\n",
    "        \n",
    "#         output = model(images)\n",
    "#         #loss = criterion(output, labels)\n",
    "#         loss = F.nll_loss(output, labels)\n",
    "        \n",
    "#         #This is where the model learns by backpropagating\n",
    "#         loss.backward()\n",
    "        \n",
    "#         #And optimizes its weights here\n",
    "#         optimizer.step()\n",
    "        \n",
    "#         running_loss += loss.item()\n",
    "#     else:\n",
    "#         print(\"Epoch {} - Training loss: {}\".format(e, running_loss/len(train_loader)))\n",
    "# print(\"\\nTraining Time (in minutes) =\",(time()-time0)/60)"
   ]
  },
  {
   "cell_type": "code",
   "execution_count": 16,
   "metadata": {},
   "outputs": [
    {
     "name": "stdout",
     "output_type": "stream",
     "text": [
      "Number Of Images Tested = 20800\n",
      "\n",
      "Model Accuracy = 0.04548076923076923\n"
     ]
    }
   ],
   "source": [
    "# correct_count, all_count = 0, 0\n",
    "# for images,labels in test_loader:\n",
    "#   for i in range(len(labels)):\n",
    "# #     img = images[i].view(1, 784)\n",
    "#     with torch.no_grad():\n",
    "#         logps = model(images)\n",
    "\n",
    "    \n",
    "#     ps = torch.exp(logps)\n",
    "#     probab = list(ps.numpy()[0])\n",
    "#     pred_label = probab.index(max(probab))\n",
    "#     true_label = labels.numpy()[i]\n",
    "#     if(true_label == pred_label):\n",
    "#       correct_count += 1\n",
    "#     all_count += 1\n",
    "\n",
    "# print(\"Number Of Images Tested =\", all_count)\n",
    "# print(\"\\nModel Accuracy =\", (correct_count/all_count))"
   ]
  },
  {
   "cell_type": "code",
   "execution_count": 6,
   "metadata": {},
   "outputs": [],
   "source": [
    "# training the neural network\n",
    "# core training process (NN iterates over the training set and updates the weights))\n",
    "# time0 = time()\n",
    "epochs = 15\n",
    "def train(epochs):\n",
    "    #for e in range(epochs):\n",
    "#     time0 = time()\n",
    "        running_loss = 0\n",
    "        correct = 0\n",
    "        for images, labels in train_loader:\n",
    "            # Training pass\n",
    "            optimizer.zero_grad() # sets all optimized gradients to zero\n",
    "\n",
    "            output = model(images)\n",
    "            \n",
    "            pred = output.data.max(1, keepdim=True)[1]\n",
    "            correct += pred.eq(labels.data.view_as(pred)).sum()\n",
    "            \n",
    "            #loss \n",
    "            loss = F.nll_loss(output, labels)\n",
    "\n",
    "            #This is where the model learns by backpropagating\n",
    "            loss.backward()\n",
    "\n",
    "            #And optimizes its weights here\n",
    "            optimizer.step()\n",
    "\n",
    "            running_loss += loss.item()\n",
    "        else: \n",
    "            print(\"Epoch {} - Training loss: {:.4f} Train Accuracy: ({:.2f}%)\".format(\n",
    "                i+1, running_loss/len(train_loader),\n",
    "                100. * correct / len(train_loader.dataset)))\n",
    "#     print(\"\\nTraining Time (in minutes) =\",(time()-time0)/60)"
   ]
  },
  {
   "cell_type": "code",
   "execution_count": 7,
   "metadata": {},
   "outputs": [],
   "source": [
    "test_losses = []\n",
    "def test():\n",
    "  model.eval()\n",
    "  test_loss = 0\n",
    "  correct = 0\n",
    "  with torch.no_grad():\n",
    "    for images, labels in test_loader:\n",
    "      output = model(images)\n",
    "      test_loss += F.nll_loss(output, labels, size_average=False).item()\n",
    "      pred = output.data.max(1, keepdim=True)[1]\n",
    "      correct += pred.eq(labels.data.view_as(pred)).sum()\n",
    "  test_loss /= len(test_loader.dataset)\n",
    "  test_losses.append(test_loss)\n",
    "  print(\"Test los: {:.4f}, Accuracy: {}/{} ({:.2f}%)\".format(\n",
    "    test_loss, correct, len(test_loader.dataset),\n",
    "    100. * correct / len(test_loader.dataset)))\n",
    "# test()"
   ]
  },
  {
   "cell_type": "code",
   "execution_count": 8,
   "metadata": {},
   "outputs": [
    {
     "name": "stderr",
     "output_type": "stream",
     "text": [
      "C:\\Users\\Lina_\\anaconda3\\lib\\site-packages\\torch\\nn\\_reduction.py:44: UserWarning: size_average and reduce args will be deprecated, please use reduction='sum' instead.\n",
      "  warnings.warn(warning.format(ret))\n"
     ]
    },
    {
     "name": "stdout",
     "output_type": "stream",
     "text": [
      "Test los: 3.2957, Accuracy: 940/20800 (4.52%)\n",
      "Epoch 1 - Training loss: 0.9272 Train Accuracy: (73.13%)\n",
      "Test los: 0.5505, Accuracy: 17342/20800 (83.38%)\n",
      "Epoch 2 - Training loss: 0.4772 Train Accuracy: (85.53%)\n",
      "Test los: 0.4342, Accuracy: 18098/20800 (87.01%)\n",
      "Epoch 3 - Training loss: 0.3965 Train Accuracy: (87.82%)\n",
      "Test los: 0.4177, Accuracy: 18151/20800 (87.26%)\n",
      "Epoch 4 - Training loss: 0.3520 Train Accuracy: (89.03%)\n",
      "Test los: 0.3754, Accuracy: 18434/20800 (88.62%)\n",
      "Epoch 5 - Training loss: 0.3207 Train Accuracy: (89.91%)\n",
      "Test los: 0.3649, Accuracy: 18480/20800 (88.85%)\n",
      "Epoch 6 - Training loss: 0.2970 Train Accuracy: (90.66%)\n",
      "Test los: 0.3629, Accuracy: 18561/20800 (89.24%)\n",
      "Epoch 7 - Training loss: 0.2782 Train Accuracy: (91.14%)\n",
      "Test los: 0.3634, Accuracy: 18562/20800 (89.24%)\n",
      "Epoch 8 - Training loss: 0.2605 Train Accuracy: (91.63%)\n",
      "Test los: 0.3697, Accuracy: 18519/20800 (89.03%)\n",
      "Epoch 9 - Training loss: 0.2469 Train Accuracy: (92.07%)\n",
      "Test los: 0.3605, Accuracy: 18555/20800 (89.21%)\n",
      "Epoch 10 - Training loss: 0.2331 Train Accuracy: (92.38%)\n",
      "Test los: 0.3561, Accuracy: 18627/20800 (89.55%)\n",
      "Epoch 11 - Training loss: 0.2218 Train Accuracy: (92.76%)\n",
      "Test los: 0.3667, Accuracy: 18571/20800 (89.28%)\n",
      "Epoch 12 - Training loss: 0.2105 Train Accuracy: (93.06%)\n",
      "Test los: 0.3712, Accuracy: 18564/20800 (89.25%)\n",
      "Epoch 13 - Training loss: 0.1991 Train Accuracy: (93.38%)\n",
      "Test los: 0.3669, Accuracy: 18588/20800 (89.37%)\n",
      "Epoch 14 - Training loss: 0.1903 Train Accuracy: (93.70%)\n",
      "Test los: 0.3767, Accuracy: 18550/20800 (89.18%)\n",
      "Epoch 15 - Training loss: 0.1818 Train Accuracy: (93.97%)\n",
      "Test los: 0.3776, Accuracy: 18567/20800 (89.26%)\n",
      "\n",
      "Training Time (in minutes) = 79.78101433118185\n"
     ]
    }
   ],
   "source": [
    "time0 = time()\n",
    "test()\n",
    "for i in range(epochs):\n",
    "  train(i)\n",
    "  test()\n",
    "print(\"\\nTraining Time (in minutes) =\",(time()-time0)/60)"
   ]
  },
  {
   "cell_type": "code",
   "execution_count": 9,
   "metadata": {},
   "outputs": [
    {
     "name": "stdout",
     "output_type": "stream",
     "text": [
      "torch.Size([64, 5, 26, 26])\n",
      "torch.Size([64, 10, 24, 24])\n",
      "torch.Size([64, 5760])\n"
     ]
    }
   ],
   "source": [
    "# Print shape of images at different points in the model\n",
    "model = nn.Conv2d(1,5,3)\n",
    "output = model(images)\n",
    "print(output.shape)\n",
    "\n",
    "model2 = nn.Conv2d(5,10,3)\n",
    "output2 = model2(output)\n",
    "print(output2.shape)\n",
    "\n",
    "print(output2.view(64, -1).shape)"
   ]
  },
  {
   "cell_type": "code",
   "execution_count": 10,
   "metadata": {},
   "outputs": [],
   "source": [
    "# save the model\n",
    "torch.save(model, './02_model.pt') \n",
    "#  save the trained model"
   ]
  }
 ],
 "metadata": {
  "kernelspec": {
   "display_name": "Python 3",
   "language": "python",
   "name": "python3"
  },
  "language_info": {
   "codemirror_mode": {
    "name": "ipython",
    "version": 3
   },
   "file_extension": ".py",
   "mimetype": "text/x-python",
   "name": "python",
   "nbconvert_exporter": "python",
   "pygments_lexer": "ipython3",
   "version": "3.8.3"
  }
 },
 "nbformat": 4,
 "nbformat_minor": 4
}
