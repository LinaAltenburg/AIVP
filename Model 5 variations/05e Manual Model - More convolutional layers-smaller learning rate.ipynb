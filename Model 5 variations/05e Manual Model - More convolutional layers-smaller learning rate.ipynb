{
 "cells": [
  {
   "cell_type": "code",
   "execution_count": 1,
   "metadata": {},
   "outputs": [
    {
     "data": {
      "text/plain": [
       "<torch._C.Generator at 0x1d1e5e61c90>"
      ]
     },
     "execution_count": 1,
     "metadata": {},
     "output_type": "execute_result"
    }
   ],
   "source": [
    "import torch\n",
    "import torchvision\n",
    "from torchvision import datasets, transforms\n",
    "import torch.nn as nn\n",
    "import torch.nn.functional as F\n",
    "import torch.optim as optim\n",
    "from time import time\n",
    "\n",
    "# set seed for the random number generations (to be able to replicate the results)\n",
    "random_seed = 1\n",
    "torch.backends.cudnn.enabled = False\n",
    "torch.manual_seed(random_seed)"
   ]
  },
  {
   "cell_type": "code",
   "execution_count": 2,
   "metadata": {},
   "outputs": [],
   "source": [
    "# loading and transforming the data\n",
    "\n",
    "# transform\n",
    "transform = transforms.Compose([transforms.ToTensor(), #transforms image into colour matrices with values ranging from 0 -1 (becomes a Torch Tensor)\n",
    "                              transforms.Normalize((0.5,), (0.5,)), # normalizes tensor\n",
    "                              ])\n",
    "\n",
    "# loading the data\n",
    "trainset = datasets.EMNIST('\\Datasets\\MNIST\\Trainset', download=True, split='letters', train=True, transform=transform)\n",
    "valset = datasets.EMNIST('\\Datasets\\MNIST\\Valset', download=True, split='letters', train=False, transform=transform)\n",
    "\n",
    "# creating the batches \n",
    "train_loader = torch.utils.data.DataLoader(trainset, batch_size=64, shuffle=True) \n",
    "test_loader = torch.utils.data.DataLoader(valset, batch_size=64, shuffle=True) "
   ]
  },
  {
   "cell_type": "code",
   "execution_count": 3,
   "metadata": {},
   "outputs": [
    {
     "name": "stdout",
     "output_type": "stream",
     "text": [
      "Net(\n",
      "  (conv1): Conv2d(1, 10, kernel_size=(3, 3), stride=(1, 1))\n",
      "  (conv2): Conv2d(10, 20, kernel_size=(3, 3), stride=(1, 1))\n",
      "  (conv3): Conv2d(20, 30, kernel_size=(3, 3), stride=(1, 1))\n",
      "  (conv4): Conv2d(30, 40, kernel_size=(3, 3), stride=(1, 1))\n",
      "  (conv5): Conv2d(40, 50, kernel_size=(3, 3), stride=(1, 1))\n",
      "  (lin1): Linear(in_features=200, out_features=27, bias=True)\n",
      ")\n"
     ]
    }
   ],
   "source": [
    "# defining the neural network\n",
    "class Net(nn.Module):\n",
    "    def __init__(self):\n",
    "        super(Net, self).__init__()\n",
    "        self.conv1 = nn.Conv2d(1,10,3) # for convolution: imput size has to match number of channels for the image\n",
    "        self.conv2 = nn.Conv2d(10,20,3)\n",
    "        self.conv3 = nn.Conv2d(20,30,3) # for convolution: imput size has to match number of channels for the image\n",
    "        self.conv4 = nn.Conv2d(30,40,3)\n",
    "        self.conv5 = nn.Conv2d(40,50,3) \n",
    "        self.lin1 = nn.Linear(200, 27) # 5760 is calculated by: print(x.view(64, -1).shape)\n",
    "\n",
    "    def forward(self, x):\n",
    "        x = F.relu(self.conv1(x))\n",
    "        x = F.relu(F.max_pool2d(F.dropout(self.conv2(x), training=self.training),2)) # defined in forward part, because hear during training can be specified (not done with test)\n",
    "        x = F.relu(self.conv3(x))\n",
    "        x = F.relu(F.max_pool2d(F.dropout(self.conv4(x), training=self.training),2))\n",
    "        x = F.relu(self.conv5(x))\n",
    "        x = x.view(64, -1) # transforms to 2D. Returns a new tensor with the same data as the self tensor but of a different shape.Keep 64 batches, calculate / infer other dimension\n",
    "        x = self.lin1(x) # requires 2D input\n",
    "        return F.log_softmax(x)\n",
    "        \n",
    "model = Net()\n",
    "print(model)"
   ]
  },
  {
   "cell_type": "markdown",
   "metadata": {},
   "source": [
    "### Notes\n",
    "- network has relatively small input (28x28), therefore the network is limited:\n",
    "    - for multiple conv layers, pooling cannot be added to each layer (otherwise dimensions get too small)"
   ]
  },
  {
   "cell_type": "code",
   "execution_count": 4,
   "metadata": {},
   "outputs": [],
   "source": [
    "# # Print shape of images at different points in the model\n",
    "# print(images.shape)\n",
    "\n",
    "# model0 = nn.Dropout2d()\n",
    "\n",
    "# model = nn.Conv2d(1,10,3)\n",
    "# output_pooled = model(images)\n",
    "# print(output_pooled.shape)\n",
    "\n",
    "# model2 = nn.Conv2d(10,20,3)\n",
    "# output2_pooled = F.max_pool2d(model2(output_pooled),2)\n",
    "# print(output2_pooled.shape)\n",
    "\n",
    "# model3 = nn.Conv2d(20,30,3)\n",
    "# output3_pooled = model3(output2_pooled)\n",
    "# print(output3_pooled.shape)\n",
    "\n",
    "# model4 = nn.Conv2d(30,40,3)\n",
    "# output4_pooled =F.max_pool2d(model4(output3_pooled),2)\n",
    "# print(output4_pooled.shape)\n",
    "\n",
    "# model5 = nn.Conv2d(40,50,3)\n",
    "# output5_pooled = model5(output4_pooled)\n",
    "# print(output5_pooled.shape)\n",
    "\n",
    "# print(output5_pooled.view(64, -1).shape)"
   ]
  },
  {
   "cell_type": "code",
   "execution_count": 5,
   "metadata": {},
   "outputs": [],
   "source": [
    "# defining the optimization method\n",
    "learning_rate = 0.00003\n",
    "momentum = 0.9\n",
    "optimizer = optim.SGD(model.parameters(), lr=learning_rate,\n",
    "                      momentum=momentum)"
   ]
  },
  {
   "cell_type": "code",
   "execution_count": 6,
   "metadata": {},
   "outputs": [
    {
     "name": "stdout",
     "output_type": "stream",
     "text": [
      "torch.Size([64, 1, 28, 28])\n"
     ]
    }
   ],
   "source": [
    "# setting the image to the correct size\n",
    "images, labels = next(iter(train_loader))\n",
    "#images = images.view(images.shape[0], -1)\n",
    "print(images.shape)\n",
    "# images = images.transpose(1,3)\n",
    "\n",
    "# criterion = nn.NLLLoss()\n",
    "# logps = model(images) #log probabilities\n",
    "# loss = criterion(logps, labels) #calculate the NLL loss"
   ]
  },
  {
   "cell_type": "code",
   "execution_count": 7,
   "metadata": {},
   "outputs": [],
   "source": [
    "# training the neural network\n",
    "# core training process (NN iterates over the training set and updates the weights))\n",
    "# time0 = time()\n",
    "epochs = 30\n",
    "def train(epochs):\n",
    "    #for e in range(epochs):\n",
    "#     time0 = time()\n",
    "        running_loss = 0\n",
    "        correct = 0\n",
    "        for images, labels in train_loader:\n",
    "            # Training pass\n",
    "            optimizer.zero_grad() # sets all optimized gradients to zero\n",
    "\n",
    "            output = model(images)\n",
    "            \n",
    "            pred = output.data.max(1, keepdim=True)[1]\n",
    "            correct += pred.eq(labels.data.view_as(pred)).sum()\n",
    "            \n",
    "            #loss \n",
    "            loss = F.nll_loss(output, labels)\n",
    "\n",
    "            #This is where the model learns by backpropagating\n",
    "            loss.backward()\n",
    "\n",
    "            #And optimizes its weights here\n",
    "            optimizer.step()\n",
    "\n",
    "            running_loss += loss.item()\n",
    "        else: \n",
    "            print(\"Epoch {} - Training loss: {:.4f} Train Accuracy: ({:.2f}%)\".format(\n",
    "                i+1, running_loss/len(train_loader),\n",
    "                100. * correct / len(train_loader.dataset)))\n",
    "#     print(\"\\nTraining Time (in minutes) =\",(time()-time0)/60)"
   ]
  },
  {
   "cell_type": "code",
   "execution_count": 8,
   "metadata": {},
   "outputs": [],
   "source": [
    "test_losses = []\n",
    "def test():\n",
    "  model.eval()\n",
    "  test_loss = 0\n",
    "  correct = 0\n",
    "  with torch.no_grad():\n",
    "    for images, labels in test_loader:\n",
    "      output = model(images)\n",
    "      test_loss += F.nll_loss(output, labels, size_average=False).item()\n",
    "      pred = output.data.max(1, keepdim=True)[1]\n",
    "      correct += pred.eq(labels.data.view_as(pred)).sum()\n",
    "  test_loss /= len(test_loader.dataset)\n",
    "  test_losses.append(test_loss)\n",
    "  print(\"Test los: {:.4f}, Accuracy: {}/{} ({:.2f}%)\".format(\n",
    "    test_loss, correct, len(test_loader.dataset),\n",
    "    100. * correct / len(test_loader.dataset)))\n",
    "# test()"
   ]
  },
  {
   "cell_type": "code",
   "execution_count": 9,
   "metadata": {},
   "outputs": [
    {
     "name": "stderr",
     "output_type": "stream",
     "text": [
      "<ipython-input-3-2e143c9b56d9>:20: UserWarning: Implicit dimension choice for log_softmax has been deprecated. Change the call to include dim=X as an argument.\n",
      "  return F.log_softmax(x)\n",
      "C:\\Users\\Lina_\\anaconda3\\lib\\site-packages\\torch\\nn\\_reduction.py:44: UserWarning: size_average and reduce args will be deprecated, please use reduction='sum' instead.\n",
      "  warnings.warn(warning.format(ret))\n"
     ]
    },
    {
     "name": "stdout",
     "output_type": "stream",
     "text": [
      "Test los: 3.2944, Accuracy: 800/20800 (3.85%)\n",
      "Epoch 1 - Training loss: 3.2937 Train Accuracy: (3.85%)\n",
      "Test los: 3.2929, Accuracy: 800/20800 (3.85%)\n",
      "Epoch 2 - Training loss: 3.2923 Train Accuracy: (3.85%)\n",
      "Test los: 3.2916, Accuracy: 800/20800 (3.85%)\n",
      "Epoch 3 - Training loss: 3.2910 Train Accuracy: (3.85%)\n",
      "Test los: 3.2903, Accuracy: 800/20800 (3.85%)\n",
      "Epoch 4 - Training loss: 3.2897 Train Accuracy: (3.82%)\n",
      "Test los: 3.2891, Accuracy: 767/20800 (3.69%)\n",
      "Epoch 5 - Training loss: 3.2886 Train Accuracy: (3.21%)\n",
      "Test los: 3.2880, Accuracy: 595/20800 (2.86%)\n",
      "Epoch 6 - Training loss: 3.2875 Train Accuracy: (2.91%)\n",
      "Test los: 3.2869, Accuracy: 702/20800 (3.38%)\n",
      "Epoch 7 - Training loss: 3.2864 Train Accuracy: (3.63%)\n",
      "Test los: 3.2859, Accuracy: 795/20800 (3.82%)\n",
      "Epoch 8 - Training loss: 3.2854 Train Accuracy: (3.84%)\n",
      "Test los: 3.2849, Accuracy: 800/20800 (3.85%)\n",
      "Epoch 9 - Training loss: 3.2844 Train Accuracy: (3.85%)\n",
      "Test los: 3.2838, Accuracy: 800/20800 (3.85%)\n",
      "Epoch 10 - Training loss: 3.2833 Train Accuracy: (3.85%)\n",
      "Test los: 3.2827, Accuracy: 800/20800 (3.85%)\n",
      "Epoch 11 - Training loss: 3.2822 Train Accuracy: (3.85%)\n",
      "Test los: 3.2816, Accuracy: 800/20800 (3.85%)\n",
      "Epoch 12 - Training loss: 3.2811 Train Accuracy: (3.85%)\n",
      "Test los: 3.2805, Accuracy: 800/20800 (3.85%)\n",
      "Epoch 13 - Training loss: 3.2799 Train Accuracy: (3.85%)\n",
      "Test los: 3.2793, Accuracy: 800/20800 (3.85%)\n",
      "Epoch 14 - Training loss: 3.2787 Train Accuracy: (3.85%)\n",
      "Test los: 3.2781, Accuracy: 800/20800 (3.85%)\n",
      "Epoch 15 - Training loss: 3.2775 Train Accuracy: (3.85%)\n",
      "Test los: 3.2768, Accuracy: 800/20800 (3.85%)\n",
      "Epoch 16 - Training loss: 3.2762 Train Accuracy: (3.85%)\n",
      "Test los: 3.2755, Accuracy: 800/20800 (3.85%)\n",
      "Epoch 17 - Training loss: 3.2747 Train Accuracy: (3.85%)\n",
      "Test los: 3.2740, Accuracy: 808/20800 (3.88%)\n",
      "Epoch 18 - Training loss: 3.2732 Train Accuracy: (3.96%)\n",
      "Test los: 3.2723, Accuracy: 832/20800 (4.00%)\n",
      "Epoch 19 - Training loss: 3.2714 Train Accuracy: (4.17%)\n",
      "Test los: 3.2705, Accuracy: 909/20800 (4.37%)\n",
      "Epoch 20 - Training loss: 3.2695 Train Accuracy: (4.55%)\n",
      "Test los: 3.2684, Accuracy: 1008/20800 (4.85%)\n",
      "Epoch 21 - Training loss: 3.2672 Train Accuracy: (4.83%)\n",
      "Test los: 3.2660, Accuracy: 1080/20800 (5.19%)\n",
      "Epoch 22 - Training loss: 3.2646 Train Accuracy: (5.09%)\n",
      "Test los: 3.2632, Accuracy: 1114/20800 (5.36%)\n",
      "Epoch 23 - Training loss: 3.2616 Train Accuracy: (5.32%)\n",
      "Test los: 3.2600, Accuracy: 1170/20800 (5.62%)\n",
      "Epoch 24 - Training loss: 3.2579 Train Accuracy: (5.48%)\n",
      "Test los: 3.2559, Accuracy: 1305/20800 (6.27%)\n",
      "Epoch 25 - Training loss: 3.2534 Train Accuracy: (6.50%)\n",
      "Test los: 3.2507, Accuracy: 1519/20800 (7.30%)\n",
      "Epoch 26 - Training loss: 3.2473 Train Accuracy: (7.74%)\n",
      "Test los: 3.2437, Accuracy: 1735/20800 (8.34%)\n",
      "Epoch 27 - Training loss: 3.2385 Train Accuracy: (9.40%)\n",
      "Test los: 3.2330, Accuracy: 2159/20800 (10.38%)\n",
      "Epoch 28 - Training loss: 3.2244 Train Accuracy: (11.11%)\n",
      "Test los: 3.2145, Accuracy: 2559/20800 (12.30%)\n",
      "Epoch 29 - Training loss: 3.1971 Train Accuracy: (13.72%)\n",
      "Test los: 3.1749, Accuracy: 3201/20800 (15.39%)\n",
      "Epoch 30 - Training loss: 3.1251 Train Accuracy: (18.80%)\n",
      "Test los: 3.0485, Accuracy: 4719/20800 (22.69%)\n",
      "\n",
      "Training Time (in minutes) = 313.2979847272237\n"
     ]
    }
   ],
   "source": [
    "time0 = time()\n",
    "test()\n",
    "for i in range(epochs):\n",
    "  train(i)\n",
    "  test()\n",
    "print(\"\\nTraining Time (in minutes) =\",(time()-time0)/60)"
   ]
  },
  {
   "cell_type": "code",
   "execution_count": 10,
   "metadata": {},
   "outputs": [],
   "source": [
    "# save the model\n",
    "torch.save(model, './05e_model.pt') \n",
    "#  save the trained model"
   ]
  }
 ],
 "metadata": {
  "kernelspec": {
   "display_name": "Python 3",
   "language": "python",
   "name": "python3"
  },
  "language_info": {
   "codemirror_mode": {
    "name": "ipython",
    "version": 3
   },
   "file_extension": ".py",
   "mimetype": "text/x-python",
   "name": "python",
   "nbconvert_exporter": "python",
   "pygments_lexer": "ipython3",
   "version": "3.8.3"
  }
 },
 "nbformat": 4,
 "nbformat_minor": 4
}
