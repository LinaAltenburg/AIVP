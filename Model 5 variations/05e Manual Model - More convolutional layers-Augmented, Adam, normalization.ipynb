{
 "cells": [
  {
   "cell_type": "code",
   "execution_count": 1,
   "metadata": {},
   "outputs": [
    {
     "data": {
      "text/plain": [
       "<torch._C.Generator at 0x1ef535f5cd0>"
      ]
     },
     "execution_count": 1,
     "metadata": {},
     "output_type": "execute_result"
    }
   ],
   "source": [
    "import torch\n",
    "import torchvision\n",
    "from torchvision import datasets, transforms\n",
    "import torch.nn as nn\n",
    "import torch.nn.functional as F\n",
    "import torch.optim as optim\n",
    "from time import time\n",
    "\n",
    "# set seed for the random number generations (to be able to replicate the results)\n",
    "random_seed = 1\n",
    "torch.backends.cudnn.enabled = False\n",
    "torch.manual_seed(random_seed)"
   ]
  },
  {
   "cell_type": "code",
   "execution_count": 2,
   "metadata": {},
   "outputs": [
    {
     "name": "stdout",
     "output_type": "stream",
     "text": [
      "249600\n",
      "20800\n"
     ]
    }
   ],
   "source": [
    "# loading and transforming the data\n",
    "\n",
    "# transform\n",
    "transform = transforms.Compose([transforms.ToTensor(), #transforms image into colour matrices with values ranging from 0 -1 (becomes a Torch Tensor)\n",
    "                                transforms.Normalize((0.5,), (0.5,)),# normalizes tensor \n",
    "                              ])\n",
    "\n",
    "transform2 = transforms.Compose([transforms.ToTensor(), #transforms image into colour matrices with values ranging from 0 -1 (becomes a Torch Tensor)\n",
    "#                                 transforms.RandomPerspective(0.9), # rarandomly transforms the perspective, is added before the normalization, so that the background is white\n",
    "                                transforms.RandomErasing(), # randomly erases parts of the image\n",
    "                                transforms.Normalize((0.5,), (0.5,)),# normalizes tensor \n",
    "                                transforms.ColorJitter(brightness = 20),  \n",
    "                                transforms.RandomCrop(20), # randomly crops the image to a given size\n",
    "                                transforms.Resize(28),   \n",
    "                                ])\n",
    "\n",
    "# loading the data\n",
    "trainset = datasets.EMNIST('\\Datasets\\MNIST\\Trainset', download=True, split='letters', train=True, transform=transform)\n",
    "augmentedset = datasets.EMNIST('\\Datasets\\MNIST\\Trainset', download=True, split='letters', train=True, transform=transform2)\n",
    "valset = datasets.EMNIST('\\Datasets\\MNIST\\Valset', download=True, split='letters', train=False, transform=transform)\n",
    "\n",
    "# creating the batches \n",
    "train_loader = torch.utils.data.DataLoader(torch.utils.data.ConcatDataset([trainset,augmentedset]), batch_size=64, shuffle=True) \n",
    "print(len(train_loader.dataset)) \n",
    "\n",
    "test_loader = torch.utils.data.DataLoader(valset, batch_size=64, shuffle=True)\n",
    "print(len(test_loader.dataset))"
   ]
  },
  {
   "cell_type": "code",
   "execution_count": 3,
   "metadata": {},
   "outputs": [
    {
     "name": "stdout",
     "output_type": "stream",
     "text": [
      "Net(\n",
      "  (norm1): BatchNorm2d(10, eps=1e-05, momentum=0.1, affine=True, track_running_stats=True)\n",
      "  (conv1): Conv2d(1, 10, kernel_size=(3, 3), stride=(1, 1))\n",
      "  (norm2): BatchNorm2d(20, eps=1e-05, momentum=0.1, affine=True, track_running_stats=True)\n",
      "  (conv2): Conv2d(10, 20, kernel_size=(3, 3), stride=(1, 1))\n",
      "  (norm3): BatchNorm2d(30, eps=1e-05, momentum=0.1, affine=True, track_running_stats=True)\n",
      "  (conv3): Conv2d(20, 30, kernel_size=(3, 3), stride=(1, 1))\n",
      "  (norm4): BatchNorm2d(40, eps=1e-05, momentum=0.1, affine=True, track_running_stats=True)\n",
      "  (conv4): Conv2d(30, 40, kernel_size=(3, 3), stride=(1, 1))\n",
      "  (norm5): BatchNorm2d(50, eps=1e-05, momentum=0.1, affine=True, track_running_stats=True)\n",
      "  (conv5): Conv2d(40, 50, kernel_size=(3, 3), stride=(1, 1))\n",
      "  (lin1): Linear(in_features=200, out_features=27, bias=True)\n",
      ")\n"
     ]
    }
   ],
   "source": [
    "# defining the neural network\n",
    "class Net(nn.Module):\n",
    "    def __init__(self):\n",
    "        super(Net, self).__init__()\n",
    "        self.norm1 = nn.BatchNorm2d(10)\n",
    "        self.conv1 = nn.Conv2d(1,10,3) # for convolution: imput size has to match number of channels for the image\n",
    "        self.norm2 = nn.BatchNorm2d(20)\n",
    "        self.conv2 = nn.Conv2d(10,20,3)\n",
    "        self.norm3 = nn.BatchNorm2d(30)\n",
    "        self.conv3 = nn.Conv2d(20,30,3) # for convolution: imput size has to match number of channels for the image\n",
    "        self.norm4 = nn.BatchNorm2d(40)\n",
    "        self.conv4 = nn.Conv2d(30,40,3)\n",
    "        self.norm5 = nn.BatchNorm2d(50)\n",
    "        self.conv5 = nn.Conv2d(40,50,3) \n",
    "        self.lin1 = nn.Linear(200, 27) # 5760 is calculated by: print(x.view(64, -1).shape)\n",
    "\n",
    "    def forward(self, x):\n",
    "        x = F.relu(self.norm1(self.conv1(x)))\n",
    "        x = F.relu(self.norm2(F.max_pool2d(F.dropout(self.conv2(x), training=self.training),2))) # defined in forward part, because hear during training can be specified (not done with test)\n",
    "        x = F.relu(self.norm3(self.conv3(x)))\n",
    "        x = F.relu(self.norm4(F.max_pool2d(F.dropout(self.conv4(x), training=self.training),2)))\n",
    "        x = F.relu(self.norm5(self.conv5(x)))\n",
    "        x = x.view(64, -1) # transforms to 2D. Returns a new tensor with the same data as the self tensor but of a different shape.Keep 64 batches, calculate / infer other dimension\n",
    "        x = self.lin1(x) # requires 2D input\n",
    "        return F.log_softmax(x)\n",
    "        \n",
    "model = Net()\n",
    "print(model)"
   ]
  },
  {
   "cell_type": "markdown",
   "metadata": {},
   "source": [
    "### Notes\n",
    "- network has relatively small input (28x28), therefore the network is limited:\n",
    "    - for multiple conv layers, pooling cannot be added to each layer (otherwise dimensions get too small)"
   ]
  },
  {
   "cell_type": "code",
   "execution_count": 4,
   "metadata": {},
   "outputs": [],
   "source": [
    "# # Print shape of images at different points in the model\n",
    "# print(images.shape)\n",
    "\n",
    "# model0 = nn.Dropout2d()\n",
    "\n",
    "# model = nn.Conv2d(1,10,3)\n",
    "# output_pooled = model(images)\n",
    "# print(output_pooled.shape)\n",
    "\n",
    "# model2 = nn.Conv2d(10,20,3)\n",
    "# output2_pooled = F.max_pool2d(model2(output_pooled),2)\n",
    "# print(output2_pooled.shape)\n",
    "\n",
    "# model3 = nn.Conv2d(20,30,3)\n",
    "# output3_pooled = model3(output2_pooled)\n",
    "# print(output3_pooled.shape)\n",
    "\n",
    "# model4 = nn.Conv2d(30,40,3)\n",
    "# output4_pooled =F.max_pool2d(model4(output3_pooled),2)\n",
    "# print(output4_pooled.shape)\n",
    "\n",
    "# model5 = nn.Conv2d(40,50,3)\n",
    "# output5_pooled = model5(output4_pooled)\n",
    "# print(output5_pooled.shape)\n",
    "\n",
    "# print(output5_pooled.view(64, -1).shape)"
   ]
  },
  {
   "cell_type": "code",
   "execution_count": 5,
   "metadata": {},
   "outputs": [],
   "source": [
    "# defining the optimization method\n",
    "learning_rate = 0.003\n",
    "#momentum = 0.9 \n",
    "optimizer = optim.Adam(model.parameters(), lr=learning_rate) # momentum=momentum"
   ]
  },
  {
   "cell_type": "code",
   "execution_count": 6,
   "metadata": {},
   "outputs": [
    {
     "name": "stdout",
     "output_type": "stream",
     "text": [
      "torch.Size([64, 1, 28, 28])\n"
     ]
    }
   ],
   "source": [
    "# setting the image to the correct size\n",
    "images, labels = next(iter(train_loader))\n",
    "#images = images.view(images.shape[0], -1)\n",
    "print(images.shape)\n",
    "# images = images.transpose(1,3)\n",
    "\n",
    "# criterion = nn.NLLLoss()\n",
    "# logps = model(images) #log probabilities\n",
    "# loss = criterion(logps, labels) #calculate the NLL loss"
   ]
  },
  {
   "cell_type": "code",
   "execution_count": 7,
   "metadata": {},
   "outputs": [],
   "source": [
    "# training the neural network\n",
    "# core training process (NN iterates over the training set and updates the weights))\n",
    "# time0 = time()\n",
    "epochs = 30\n",
    "def train(epochs):\n",
    "    #for e in range(epochs):\n",
    "#     time0 = time()\n",
    "        running_loss = 0\n",
    "        correct = 0\n",
    "        for images, labels in train_loader:\n",
    "            # Training pass\n",
    "            optimizer.zero_grad() # sets all optimized gradients to zero\n",
    "\n",
    "            output = model(images)\n",
    "            \n",
    "            pred = output.data.max(1, keepdim=True)[1]\n",
    "            correct += pred.eq(labels.data.view_as(pred)).sum()\n",
    "            \n",
    "            #loss \n",
    "            loss = F.nll_loss(output, labels)\n",
    "\n",
    "            #This is where the model learns by backpropagating\n",
    "            loss.backward()\n",
    "\n",
    "            #And optimizes its weights here\n",
    "            optimizer.step()\n",
    "\n",
    "            running_loss += loss.item()\n",
    "        else: \n",
    "            print(\"Epoch {} - Training loss: {:.4f} Train Accuracy: ({:.2f}%)\".format(\n",
    "                i+1, running_loss/len(train_loader),\n",
    "                100. * correct / len(train_loader.dataset)))\n",
    "#     print(\"\\nTraining Time (in minutes) =\",(time()-time0)/60)"
   ]
  },
  {
   "cell_type": "code",
   "execution_count": 8,
   "metadata": {},
   "outputs": [],
   "source": [
    "test_losses = []\n",
    "def test():\n",
    "  model.eval()\n",
    "  test_loss = 0\n",
    "  correct = 0\n",
    "  with torch.no_grad():\n",
    "    for images, labels in test_loader:\n",
    "      output = model(images)\n",
    "      test_loss += F.nll_loss(output, labels, size_average=False).item()\n",
    "      pred = output.data.max(1, keepdim=True)[1]\n",
    "      correct += pred.eq(labels.data.view_as(pred)).sum()\n",
    "  test_loss /= len(test_loader.dataset)\n",
    "  test_losses.append(test_loss)\n",
    "  print(\"Test los: {:.4f}, Accuracy: {}/{} ({:.2f}%)\".format(\n",
    "    test_loss, correct, len(test_loader.dataset),\n",
    "    100. * correct / len(test_loader.dataset)))\n",
    "# test()"
   ]
  },
  {
   "cell_type": "code",
   "execution_count": null,
   "metadata": {},
   "outputs": [
    {
     "name": "stderr",
     "output_type": "stream",
     "text": [
      "<ipython-input-3-3a8ef201b17c>:25: UserWarning: Implicit dimension choice for log_softmax has been deprecated. Change the call to include dim=X as an argument.\n",
      "  return F.log_softmax(x)\n",
      "C:\\Users\\Lina_\\anaconda3\\lib\\site-packages\\torch\\nn\\_reduction.py:44: UserWarning: size_average and reduce args will be deprecated, please use reduction='sum' instead.\n",
      "  warnings.warn(warning.format(ret))\n"
     ]
    },
    {
     "name": "stdout",
     "output_type": "stream",
     "text": [
      "Test los: 3.2944, Accuracy: 800/20800 (3.85%)\n",
      "Epoch 1 - Training loss: 1.0885 Train Accuracy: (66.84%)\n",
      "Test los: 0.3026, Accuracy: 18828/20800 (90.52%)\n",
      "Epoch 2 - Training loss: 0.8055 Train Accuracy: (75.19%)\n",
      "Test los: 0.2571, Accuracy: 19010/20800 (91.39%)\n",
      "Epoch 3 - Training loss: 0.7408 Train Accuracy: (76.98%)\n",
      "Test los: 0.2461, Accuracy: 19105/20800 (91.85%)\n",
      "Epoch 4 - Training loss: 0.7033 Train Accuracy: (78.17%)\n",
      "Test los: 0.2233, Accuracy: 19241/20800 (92.50%)\n",
      "Epoch 5 - Training loss: 0.6797 Train Accuracy: (78.71%)\n",
      "Test los: 0.2118, Accuracy: 19354/20800 (93.05%)\n",
      "Epoch 6 - Training loss: 0.6637 Train Accuracy: (79.24%)\n",
      "Test los: 0.2260, Accuracy: 19288/20800 (92.73%)\n",
      "Epoch 7 - Training loss: 0.6500 Train Accuracy: (79.60%)\n",
      "Test los: 0.2136, Accuracy: 19276/20800 (92.67%)\n",
      "Epoch 8 - Training loss: 0.6400 Train Accuracy: (79.87%)\n",
      "Test los: 0.2131, Accuracy: 19359/20800 (93.07%)\n",
      "Epoch 9 - Training loss: 0.6292 Train Accuracy: (80.22%)\n",
      "Test los: 0.2114, Accuracy: 19336/20800 (92.96%)\n",
      "Epoch 10 - Training loss: 0.6225 Train Accuracy: (80.35%)\n",
      "Test los: 0.2037, Accuracy: 19369/20800 (93.12%)\n",
      "Epoch 11 - Training loss: 0.6192 Train Accuracy: (80.45%)\n",
      "Test los: 0.2118, Accuracy: 19363/20800 (93.09%)\n",
      "Epoch 12 - Training loss: 0.6131 Train Accuracy: (80.71%)\n",
      "Test los: 0.2046, Accuracy: 19349/20800 (93.02%)\n",
      "Epoch 13 - Training loss: 0.6097 Train Accuracy: (80.78%)\n",
      "Test los: 0.2058, Accuracy: 19367/20800 (93.11%)\n",
      "Epoch 14 - Training loss: 0.6037 Train Accuracy: (80.98%)\n",
      "Test los: 0.2050, Accuracy: 19394/20800 (93.24%)\n"
     ]
    }
   ],
   "source": [
    "time0 = time()\n",
    "test()\n",
    "for i in range(epochs):\n",
    "  train(i)\n",
    "  test()\n",
    "print(\"\\nTraining Time (in minutes) =\",(time()-time0)/60)"
   ]
  },
  {
   "cell_type": "code",
   "execution_count": null,
   "metadata": {},
   "outputs": [],
   "source": [
    "# save the model\n",
    "torch.save(model, './05e_model.pt') \n",
    "#  save the trained model"
   ]
  }
 ],
 "metadata": {
  "kernelspec": {
   "display_name": "Python 3",
   "language": "python",
   "name": "python3"
  },
  "language_info": {
   "codemirror_mode": {
    "name": "ipython",
    "version": 3
   },
   "file_extension": ".py",
   "mimetype": "text/x-python",
   "name": "python",
   "nbconvert_exporter": "python",
   "pygments_lexer": "ipython3",
   "version": "3.8.3"
  }
 },
 "nbformat": 4,
 "nbformat_minor": 4
}
