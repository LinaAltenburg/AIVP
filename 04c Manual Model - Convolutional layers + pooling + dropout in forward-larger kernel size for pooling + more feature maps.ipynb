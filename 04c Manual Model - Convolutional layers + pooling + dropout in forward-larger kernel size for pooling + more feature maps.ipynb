{
 "cells": [
  {
   "cell_type": "code",
   "execution_count": 1,
   "metadata": {},
   "outputs": [
    {
     "data": {
      "text/plain": [
       "<torch._C.Generator at 0x20d7fea1cd0>"
      ]
     },
     "execution_count": 1,
     "metadata": {},
     "output_type": "execute_result"
    }
   ],
   "source": [
    "import torch\n",
    "import torchvision\n",
    "from torchvision import datasets, transforms\n",
    "import torch.nn as nn\n",
    "import torch.nn.functional as F\n",
    "import torch.optim as optim\n",
    "from time import time\n",
    "\n",
    "# set seed for the random number generations (to be able to replicate the results)\n",
    "random_seed = 1\n",
    "torch.backends.cudnn.enabled = False\n",
    "torch.manual_seed(random_seed)"
   ]
  },
  {
   "cell_type": "code",
   "execution_count": 2,
   "metadata": {},
   "outputs": [],
   "source": [
    "# loading and transforming the data\n",
    "\n",
    "# transform\n",
    "transform = transforms.Compose([transforms.ToTensor(), #transforms image into colour matrices with values ranging from 0 -1 (becomes a Torch Tensor)\n",
    "                              transforms.Normalize((0.5,), (0.5,)), # normalizes tensor\n",
    "                              ])\n",
    "\n",
    "# loading the data\n",
    "trainset = datasets.EMNIST('\\Datasets\\MNIST\\Trainset', download=True, split='letters', train=True, transform=transform)\n",
    "valset = datasets.EMNIST('\\Datasets\\MNIST\\Valset', download=True, split='letters', train=False, transform=transform)\n",
    "\n",
    "# creating the batches \n",
    "train_loader = torch.utils.data.DataLoader(trainset, batch_size=64, shuffle=True) \n",
    "test_loader = torch.utils.data.DataLoader(valset, batch_size=64, shuffle=True) "
   ]
  },
  {
   "cell_type": "code",
   "execution_count": 3,
   "metadata": {},
   "outputs": [
    {
     "name": "stdout",
     "output_type": "stream",
     "text": [
      "Net(\n",
      "  (conv1): Conv2d(1, 10, kernel_size=(5, 5), stride=(1, 1))\n",
      "  (conv2): Conv2d(10, 20, kernel_size=(5, 5), stride=(1, 1))\n",
      "  (lin1): Linear(in_features=320, out_features=27, bias=True)\n",
      ")\n"
     ]
    }
   ],
   "source": [
    "# defining the neural network\n",
    "class Net(nn.Module):\n",
    "    def __init__(self):\n",
    "        super(Net, self).__init__()\n",
    "        self.conv1 = nn.Conv2d(1,10,5) # for convolution: imput size has to match number of channels for the image\n",
    "        self.conv2 = nn.Conv2d(10,20,5)\n",
    "        self.lin1 = nn.Linear(320, 27) # 5760 is calculated by: print(x.view(64, -1).shape)\n",
    "\n",
    "    def forward(self, x):\n",
    "        x = F.relu(F.max_pool2d(self.conv1(x), 2))\n",
    "        x = F.relu(F.max_pool2d(F.dropout(self.conv2(x), training=self.training), 2)) # defined in forward part, because hear during training can be specified (not done with test)\n",
    "        x = x.view(64, -1) # transforms to 2D. Returns a new tensor with the same data as the self tensor but of a different shape.Keep 64 batches, calculate / infer other dimension\n",
    "        x = F.relu(self.lin1(x)) # requires 2D input\n",
    "        return F.log_softmax(x)\n",
    "        \n",
    "model = Net()\n",
    "print(model)"
   ]
  },
  {
   "cell_type": "code",
   "execution_count": 4,
   "metadata": {},
   "outputs": [],
   "source": [
    "# # Print shape of images at different points in the model\n",
    "# print(images.shape)\n",
    "# model = nn.Conv2d(1,10,5)\n",
    "# model1b = nn.Dropout2d()\n",
    "# output_pooled = F.max_pool2d(model1b(model(images)),2)\n",
    "# print(output_pooled.shape)\n",
    "\n",
    "# model2 = nn.Conv2d(10,20,5)\n",
    "\n",
    "# output2_pooled = F.max_pool2d(model1b(model2(output_pooled)),2)\n",
    "# print(output2_pooled.shape)\n",
    "\n",
    "# print(output2_pooled.view(64, -1).shape)"
   ]
  },
  {
   "cell_type": "code",
   "execution_count": 5,
   "metadata": {},
   "outputs": [],
   "source": [
    "# defining the optimization method\n",
    "learning_rate = 0.003\n",
    "momentum = 0.9\n",
    "optimizer = optim.SGD(model.parameters(), lr=learning_rate,\n",
    "                      momentum=momentum)"
   ]
  },
  {
   "cell_type": "code",
   "execution_count": 6,
   "metadata": {},
   "outputs": [
    {
     "name": "stdout",
     "output_type": "stream",
     "text": [
      "torch.Size([64, 1, 28, 28])\n"
     ]
    }
   ],
   "source": [
    "# setting the image to the correct size\n",
    "images, labels = next(iter(train_loader))\n",
    "#images = images.view(images.shape[0], -1)\n",
    "print(images.shape)\n",
    "# images = images.transpose(1,3)\n",
    "\n",
    "# criterion = nn.NLLLoss()\n",
    "# logps = model(images) #log probabilities\n",
    "# loss = criterion(logps, labels) #calculate the NLL loss"
   ]
  },
  {
   "cell_type": "code",
   "execution_count": 7,
   "metadata": {},
   "outputs": [],
   "source": [
    "# training the neural network\n",
    "# core training process (NN iterates over the training set and updates the weights))\n",
    "# time0 = time()\n",
    "epochs = 5\n",
    "def train(epochs):\n",
    "    #for e in range(epochs):\n",
    "#     time0 = time()\n",
    "        running_loss = 0\n",
    "        correct = 0\n",
    "        for images, labels in train_loader:\n",
    "            # Training pass\n",
    "            optimizer.zero_grad() # sets all optimized gradients to zero\n",
    "\n",
    "            output = model(images)\n",
    "            \n",
    "            pred = output.data.max(1, keepdim=True)[1]\n",
    "            correct += pred.eq(labels.data.view_as(pred)).sum()\n",
    "            \n",
    "            #loss \n",
    "            loss = F.nll_loss(output, labels)\n",
    "\n",
    "            #This is where the model learns by backpropagating\n",
    "            loss.backward()\n",
    "\n",
    "            #And optimizes its weights here\n",
    "            optimizer.step()\n",
    "\n",
    "            running_loss += loss.item()\n",
    "        else: \n",
    "            print(\"Epoch {} - Training loss: {:.4f} Train Accuracy: ({:.2f}%)\".format(\n",
    "                i+1, running_loss/len(train_loader),\n",
    "                100. * correct / len(train_loader.dataset)))\n",
    "#     print(\"\\nTraining Time (in minutes) =\",(time()-time0)/60)"
   ]
  },
  {
   "cell_type": "code",
   "execution_count": 8,
   "metadata": {},
   "outputs": [],
   "source": [
    "test_losses = []\n",
    "def test():\n",
    "  model.eval()\n",
    "  test_loss = 0\n",
    "  correct = 0\n",
    "  with torch.no_grad():\n",
    "    for images, labels in test_loader:\n",
    "      output = model(images)\n",
    "      test_loss += F.nll_loss(output, labels, size_average=False).item()\n",
    "      pred = output.data.max(1, keepdim=True)[1]\n",
    "      correct += pred.eq(labels.data.view_as(pred)).sum()\n",
    "  test_loss /= len(test_loader.dataset)\n",
    "  test_losses.append(test_loss)\n",
    "  print(\"Test los: {:.4f}, Accuracy: {}/{} ({:.2f}%)\".format(\n",
    "    test_loss, correct, len(test_loader.dataset),\n",
    "    100. * correct / len(test_loader.dataset)))\n",
    "# test()"
   ]
  },
  {
   "cell_type": "code",
   "execution_count": 9,
   "metadata": {},
   "outputs": [
    {
     "name": "stderr",
     "output_type": "stream",
     "text": [
      "<ipython-input-3-7882ed6ee58f>:14: UserWarning: Implicit dimension choice for log_softmax has been deprecated. Change the call to include dim=X as an argument.\n",
      "  return F.log_softmax(x)\n",
      "C:\\Users\\Lina_\\anaconda3\\lib\\site-packages\\torch\\nn\\_reduction.py:44: UserWarning: size_average and reduce args will be deprecated, please use reduction='sum' instead.\n",
      "  warnings.warn(warning.format(ret))\n"
     ]
    },
    {
     "name": "stdout",
     "output_type": "stream",
     "text": [
      "Test los: 3.3102, Accuracy: 186/20800 (0.89%)\n",
      "Epoch 1 - Training loss: 1.2092 Train Accuracy: (67.47%)\n",
      "Test los: 0.6590, Accuracy: 16791/20800 (80.73%)\n",
      "Epoch 2 - Training loss: 0.6144 Train Accuracy: (82.06%)\n",
      "Test los: 0.5747, Accuracy: 17325/20800 (83.29%)\n",
      "Epoch 3 - Training loss: 0.5479 Train Accuracy: (83.71%)\n",
      "Test los: 0.4331, Accuracy: 18096/20800 (87.00%)\n",
      "Epoch 4 - Training loss: 0.3919 Train Accuracy: (88.03%)\n",
      "Test los: 0.2881, Accuracy: 18902/20800 (90.88%)\n",
      "Epoch 5 - Training loss: 0.2562 Train Accuracy: (91.67%)\n",
      "Test los: 0.2638, Accuracy: 19087/20800 (91.76%)\n",
      "\n",
      "Training Time (in minutes) = 12.990006347497305\n"
     ]
    }
   ],
   "source": [
    "time0 = time()\n",
    "test()\n",
    "for i in range(epochs):\n",
    "  train(i)\n",
    "  test()\n",
    "print(\"\\nTraining Time (in minutes) =\",(time()-time0)/60)"
   ]
  },
  {
   "cell_type": "code",
   "execution_count": 10,
   "metadata": {},
   "outputs": [],
   "source": [
    "# save the model\n",
    "torch.save(model, './04b_model.pt') \n",
    "#  save the trained model"
   ]
  }
 ],
 "metadata": {
  "kernelspec": {
   "display_name": "Python 3",
   "language": "python",
   "name": "python3"
  },
  "language_info": {
   "codemirror_mode": {
    "name": "ipython",
    "version": 3
   },
   "file_extension": ".py",
   "mimetype": "text/x-python",
   "name": "python",
   "nbconvert_exporter": "python",
   "pygments_lexer": "ipython3",
   "version": "3.8.3"
  }
 },
 "nbformat": 4,
 "nbformat_minor": 4
}
